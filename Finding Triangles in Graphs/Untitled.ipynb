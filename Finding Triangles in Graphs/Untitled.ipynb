{
 "cells": [
  {
   "cell_type": "code",
   "execution_count": 18,
   "metadata": {},
   "outputs": [],
   "source": [
    "import matplotlib.pyplot as plt\n",
    "import triestBase as tb\n",
    "\n",
    "\n",
    "def run():\n",
    "\n",
    "    for sample in sampleSize:\n",
    "        for it in range(iterations):\n",
    "            if mode == 1: model = TriestBase(sample)\n",
    "            else: model = TriestImpr(sample)\n",
    "\n",
    "            with open(file) as f:\n",
    "                for line in f:\n",
    "                    if line.startswith('%'): continue\n",
    "\n",
    "                    u, v = list(map(int, line.strip().split()))\n",
    "\n",
    "                    model.run(u, v)\n",
    "\n",
    "                # print(\"============ FINAL OUTPUT IS ====================\")\n",
    "                # print(model.returnCounters())\n",
    "\n",
    "                # outputs.append(model.returnCounters()['totalTriangles'])\n",
    "                # outputLocal.append(model.returnCounters()['localTriangles'])\n",
    "                print(\"Sample Size:\", sample, \"Iteration:\", it+1, \"Triangle Count:\", model.returnCounters()['totalTriangles'])\n",
    "    \n",
    "    return model.returnCounters()['totalTriangles']"
   ]
  },
  {
   "cell_type": "code",
   "execution_count": 19,
   "metadata": {},
   "outputs": [],
   "source": [
    "samples = [5000, 10000, 20000, 30000, 40000]\n",
    "ests = []\n"
   ]
  },
  {
   "cell_type": "code",
   "execution_count": 23,
   "metadata": {},
   "outputs": [
    {
     "name": "stdout",
     "output_type": "stream",
     "text": [
      "Sample Size: 5000 Iteration: 1 Triangle Count: 10485376\n",
      "Sample Size: 10000 Iteration: 1 Triangle Count: 10560545\n",
      "Sample Size: 20000 Iteration: 1 Triangle Count: 10072584\n",
      "Sample Size: 30000 Iteration: 1 Triangle Count: 9737035\n",
      "Sample Size: 40000 Iteration: 1 Triangle Count: 9350734\n"
     ]
    },
    {
     "ename": "TypeError",
     "evalue": "'int' object is not iterable",
     "output_type": "error",
     "traceback": [
      "\u001b[1;31m---------------------------------------------------------------------------\u001b[0m",
      "\u001b[1;31mTypeError\u001b[0m                                 Traceback (most recent call last)",
      "\u001b[1;32m~\\Documents\\GitHub\\Data-Mining\\Finding Triangles in Graphs\\main.py\u001b[0m in \u001b[0;36m<module>\u001b[1;34m\u001b[0m\n\u001b[1;32m----> 1\u001b[1;33m \u001b[0mests\u001b[0m \u001b[1;33m=\u001b[0m \u001b[1;33m[\u001b[0m\u001b[0mrun\u001b[0m \u001b[1;32mfor\u001b[0m \u001b[0mrun\u001b[0m \u001b[1;32min\u001b[0m \u001b[0mrun\u001b[0m\u001b[1;33m(\u001b[0m\u001b[1;33m)\u001b[0m\u001b[1;33m]\u001b[0m\u001b[1;33m\u001b[0m\u001b[1;33m\u001b[0m\u001b[0m\n\u001b[0m",
      "\u001b[1;31mTypeError\u001b[0m: 'int' object is not iterable"
     ]
    }
   ],
   "source": [
    "ests = [run for run in run()]"
   ]
  },
  {
   "cell_type": "code",
   "execution_count": null,
   "metadata": {},
   "outputs": [],
   "source": [
    "ests"
   ]
  },
  {
   "cell_type": "code",
   "execution_count": null,
   "metadata": {},
   "outputs": [],
   "source": []
  }
 ],
 "metadata": {
  "kernelspec": {
   "display_name": "Python 3",
   "language": "python",
   "name": "python3"
  },
  "language_info": {
   "codemirror_mode": {
    "name": "ipython",
    "version": 3
   },
   "file_extension": ".py",
   "mimetype": "text/x-python",
   "name": "python",
   "nbconvert_exporter": "python",
   "pygments_lexer": "ipython3",
   "version": "3.7.1"
  }
 },
 "nbformat": 4,
 "nbformat_minor": 2
}
